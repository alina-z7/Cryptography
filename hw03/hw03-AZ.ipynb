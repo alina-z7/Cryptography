{
 "cells": [
  {
   "cell_type": "markdown",
   "metadata": {
    "collapsed": false
   },
   "source": [
    "<h1><b>Homework III</b></h1>\n",
    "\n",
    "<i>Introduction to Cryptography &ndash; Loyola University Chicago - Spring 2024</i>\n",
    "\n",
    "<div style=\"margin-top:32px;\">\n",
    "<font style=\"font-size: large;\">\n",
    "    <b>Name:</b> \n",
    "    Alina Zacaria\n",
    "</font>\n",
    "</div>"
   ]
  },
  {
   "cell_type": "markdown",
   "metadata": {
    "collapsed": false
   },
   "source": [
    "## **P0:** Self-Assessment\n",
    "\n",
    "`Undergraduate Students & Graduate Students:`\n",
    "\n",
    "- Please give resources used (and to what extent) on this homework assignment.\n",
    "\n",
    " - Name one problem that:\n",
    "\n",
    "    + you are sure about; P3\n",
    "\n",
    "    + you would like feedback on; P4\n",
    "\n",
    " - Look back at the definitions, theorems, concepts, and questions-of-the-week from the past two weeks. Place them into one of three columns.\n",
    "\n",
    "| happy: | :need review: | :unhappy |\n",
    "| --- | --- | --- |\n",
    "| prime number | rings | el gamal |\n",
    "| crt | rabin's encryption | gcdex |\n",
    "\n",
    "\n",
    " - **Agree** \n",
    " Next week, I should seek more help from my group members or Piazza, or [Drop in](https://appt.link/lauve-meetings) for a visit with my professor."
   ]
  },
  {
   "cell_type": "markdown",
   "metadata": {
    "collapsed": false
   },
   "source": [
    "# Math/Comp 331\n",
    "\n",
    "``Undergraduate Students:`` submit solutions to all exercises in this collection, plus the **Self Assessment** above.\n",
    "\n",
    "**Important Notes.** \n",
    "\n",
    "- On problems that require some mathematical calculations, you may use markdown cells with $\\LaTeX{}$ or upload a PDF or PNG file. \n",
    "<br>\n",
    "(Be sure to indicate the file name if you don't import your solution directly beneath the problem statement.)\n",
    "\n",
    "- All functions you code in this class as part of your solutions should include a doc string (within triple-quotes). \n",
    "<br>(Additionally, particularly lengthy blocks of code should include a comment or two for the reader.)"
   ]
  },
  {
   "cell_type": "markdown",
   "metadata": {
    "collapsed": false
   },
   "source": [
    "## **P1:** Python Checkup, I\n",
    "\n",
    "We need to talk about **encoding(\\*) and decoding.** (See Hoffstein, Section 1.7.2.) \n",
    "\n",
    " - Let us use Unicode UTF-8 encoding. ([See here](https://www.utf8-chartable.de/unicode-utf8-table.pl?number=128&names=2&utf8=string-literal) for a dictionary of printable and nonprintable characters.)\n",
    "\n",
    " - Converting these to decimal numbers, they are all less than 128, so let's pick a bigger prime (say $p=131$)\n",
    "For all unassigned numbers (not appearing in the Unicode encoding scheme), let us associate them with \"$*_i$\" for the $i$-th non-specified character. By the same token, let us write $x_i$ for the UTF-8 literals that are non-printable characters. (Again, see [the dictionary](https://www.utf8-chartable.de/unicode-utf8-table.pl?number=128&names=2&utf8=string-literal).)\n",
    "\n",
    "To see its use in practice, let us use an Affine cipher, with $e(m) = 3m+70$. What does the process look like? (_Warning:_ below I'm using an incorrect/completely-made-up encoding, just for illustrative purposes.) In practice there are four steps: encode, encrypt, decrypt, decode, which I show as four rows: input letter (*plaintext*), input number (\"plaintext\"), output number (\"ciphertext\"), output letter (*ciphertext*).\n",
    "\n",
    "```\n",
    "  a  b   c  d  e ...\n",
    " -------------------\n",
    "  1  2  20  4 22 ...\n",
    " 73 76 130 82  5 ...\n",
    " -------------------\n",
    "  p  X  *1  4 x5 ...\n",
    "```\n",
    "\n",
    "So, if Bob sends \"badcab\", then Eve and Alice both see `(76, 73, 82, 130, 73, 76)` and both decode/read it as the message \"X p 4 *1 p X\". Of course, Alice knows how to first apply a decryption function before trying to decode/read it. So she will correctly see \"badcab\" when done.\n",
    "\n",
    "#### Your Tasks:\n",
    "\n",
    "1. Write \"let sleeping dogs lie\", including the spaces, as a string of Unicode numbers. (Use code to help you; learn about `ord` and `chr`.)\n",
    "\n",
    "\n",
    "2. Show me the (correct) encryption table for the full lowercase alphabet. (I don't need to see all four rows, as fake-shown above, just the first and last.)\n",
    "\n",
    "\n",
    "3. Encrypt the message in Part 1.\n",
    "\n",
    "---\n",
    "\n",
    "(\\*) The \"proper\" way to encode text is to assign characters to numbers in a such way that they are \"far apart\" when written in binary notation. E.g., the letter `A` might be encoded as `011000` while `B` might be encoded as `000101`. This allows for error detection during transmission. (_E.g._, suppose Bob sends `A`, but static in the transmission line causes the third digit to blip from `1` to `0`, so Alice receives `010000`. \"Hmm. that string is not in my lookup table,\"\" says Alice's computer. The computer tries to repair it... the received message is **three errors away** from `B` but only **one error away** from `A`. Assumig a not-very-noisy channel, Bob must have sent `A`.) But we won't worry about that for now."
   ]
  },
  {
   "cell_type": "code",
   "execution_count": 1,
   "metadata": {
    "collapsed": false
   },
   "outputs": [
    {
     "name": "stdout",
     "output_type": "stream",
     "text": [
      "[108, 101, 116, 32, 115, 108, 101, 101, 112, 105, 110, 103, 32, 100, 111, 103, 115, 32, 108, 105, 101]\n"
     ]
    }
   ],
   "source": [
    "input_text = \"let sleeping dogs lie\" # text\n",
    "unicode_nums = [] # accumulation -> list\n",
    "\n",
    "for c in input_text: # conversion\n",
    "    unicode_nums.append(ord(c))\n",
    "    \n",
    "print(unicode_nums) # output"
   ]
  },
  {
   "cell_type": "code",
   "execution_count": 2,
   "metadata": {},
   "outputs": [
    {
     "name": "stdout",
     "output_type": "stream",
     "text": [
      "{'a': 70, 'b': 73, 'c': 76, 'd': 79, 'e': 82, 'f': 85, 'g': 88, 'h': 91, 'i': 94, 'j': 97, 'k': 100, 'l': 103, 'm': 106, 'n': 109, 'o': 112, 'p': 115, 'q': 118, 'r': 121, 's': 124, 't': 127, 'u': 130, 'v': 2, 'w': 5, 'x': 8, 'y': 11, 'z': 14}\n"
     ]
    }
   ],
   "source": [
    "encryption_table = {} # format: 'letter' -> 'encryption number'\n",
    "\n",
    "for letter in range(ord('a'), ord('z') + 1):\n",
    "    encrypted_char = (3 * (letter - ord('a')) + 70) % 131 # formula to convert to encryption number\n",
    "    encryption_key = chr(letter)\n",
    "    encryption_table[encryption_key] = encrypted_char\n",
    "\n",
    "print(encryption_table) # encryption table"
   ]
  },
  {
   "cell_type": "markdown",
   "metadata": {
    "collapsed": false
   },
   "source": [
    "## **P2:** The ElGamal PKC\n",
    "\n",
    "Alice and Bob agree to use the prime $p = 1373$ and the base $g = 2$ for communications using the ElGamal public key cryptosystem.\n"
   ]
  },
  {
   "cell_type": "code",
   "execution_count": 3,
   "metadata": {
    "collapsed": false
   },
   "outputs": [
    {
     "name": "stdout",
     "output_type": "stream",
     "text": [
      "1 1 {1}\n",
      "2 11 {1, 2, 3, 4, 6, 8, 9, 12, 13, 16, 18}\n",
      "3 11 {1, 2, 3, 4, 6, 8, 9, 12, 13, 16, 18}\n",
      "4 11 {1, 2, 3, 4, 6, 8, 9, 12, 13, 16, 18}\n",
      "5 22 {1, 2, 3, 4, 5, 6, 7, 8, 9, 10, 11, 12, 13, 14, 15, 16, 17, 18, 19, 20, 21, 22}\n",
      "6 11 {1, 2, 3, 4, 6, 8, 9, 12, 13, 16, 18}\n",
      "7 22 {1, 2, 3, 4, 5, 6, 7, 8, 9, 10, 11, 12, 13, 14, 15, 16, 17, 18, 19, 20, 21, 22}\n",
      "8 11 {1, 2, 3, 4, 6, 8, 9, 12, 13, 16, 18}\n",
      "9 11 {1, 2, 3, 4, 6, 8, 9, 12, 13, 16, 18}\n",
      "10 22 {1, 2, 3, 4, 5, 6, 7, 8, 9, 10, 11, 12, 13, 14, 15, 16, 17, 18, 19, 20, 21, 22}\n",
      "11 22 {1, 2, 3, 4, 5, 6, 7, 8, 9, 10, 11, 12, 13, 14, 15, 16, 17, 18, 19, 20, 21, 22}\n",
      "12 11 {1, 2, 3, 4, 6, 8, 9, 12, 13, 16, 18}\n",
      "13 11 {1, 2, 3, 4, 6, 8, 9, 12, 13, 16, 18}\n",
      "14 22 {1, 2, 3, 4, 5, 6, 7, 8, 9, 10, 11, 12, 13, 14, 15, 16, 17, 18, 19, 20, 21, 22}\n",
      "15 22 {1, 2, 3, 4, 5, 6, 7, 8, 9, 10, 11, 12, 13, 14, 15, 16, 17, 18, 19, 20, 21, 22}\n",
      "16 11 {1, 2, 3, 4, 6, 8, 9, 12, 13, 16, 18}\n",
      "17 22 {1, 2, 3, 4, 5, 6, 7, 8, 9, 10, 11, 12, 13, 14, 15, 16, 17, 18, 19, 20, 21, 22}\n",
      "18 11 {1, 2, 3, 4, 6, 8, 9, 12, 13, 16, 18}\n",
      "19 22 {1, 2, 3, 4, 5, 6, 7, 8, 9, 10, 11, 12, 13, 14, 15, 16, 17, 18, 19, 20, 21, 22}\n",
      "20 22 {1, 2, 3, 4, 5, 6, 7, 8, 9, 10, 11, 12, 13, 14, 15, 16, 17, 18, 19, 20, 21, 22}\n",
      "21 22 {1, 2, 3, 4, 5, 6, 7, 8, 9, 10, 11, 12, 13, 14, 15, 16, 17, 18, 19, 20, 21, 22}\n",
      "22 2 {1, 22}\n"
     ]
    }
   ],
   "source": [
    "# elgamal\n",
    "\n",
    "for a in range(1, 23):\n",
    "    xx = set([pow(a,k,23) for k in range(23)])\n",
    "    print(a, len(xx), xx)"
   ]
  },
  {
   "cell_type": "markdown",
   "metadata": {},
   "source": [
    "**a)** Alice chooses $a = 947$ as her private key. What is the value of her public key $A$?"
   ]
  },
  {
   "cell_type": "code",
   "execution_count": 4,
   "metadata": {},
   "outputs": [
    {
     "name": "stdout",
     "output_type": "stream",
     "text": [
      "Alice's public key: 177\n"
     ]
    }
   ],
   "source": [
    "import math\n",
    "\n",
    "a = 947 # private key\n",
    "g = 2 # base\n",
    "p = 1373 # prime modolus\n",
    "\n",
    "A = int(math.pow(g, a) % p) # g ^ a mod p\n",
    "print(\"Alice's public key:\", A) # public key"
   ]
  },
  {
   "cell_type": "markdown",
   "metadata": {},
   "source": [
    " **b)** Bob chooses $b = 716$ as his private key, so his public key is $B = 2716 = 469 \\pmod{1373}$\n",
    " Alice encrypts the message $m = 583$ for Bob using the random element $k = 877$. What is the ciphertext $(c_1,c_2)$ that Alice sends to Bob?"
   ]
  },
  {
   "cell_type": "code",
   "execution_count": 5,
   "metadata": {},
   "outputs": [
    {
     "name": "stdout",
     "output_type": "stream",
     "text": [
      "Ciphertext (c1, c2): (719, 623)\n"
     ]
    }
   ],
   "source": [
    "import math\n",
    "\n",
    "g = 2\n",
    "p = 1373\n",
    "b = 716\n",
    "\n",
    "B = math.pow(g, b) % p # Bob's public key: g ^ a mod p\n",
    "\n",
    "m = 583 # encrypted message\n",
    "k = 877 # random k\n",
    "\n",
    "c1 = int(math.pow(g, k) % p) # first component c1 - ciphertext\n",
    "c2 = (m * pow(int(B), k, p)) % p # second component c2 - ciphertext\n",
    "\n",
    "ciphertext = (c1, c2)\n",
    "print(\"Ciphertext (c1, c2):\", ciphertext) # complete ciphertext"
   ]
  },
  {
   "cell_type": "markdown",
   "metadata": {},
   "source": [
    " **c)** New month, new keys. Alice now uses private key $a = 299$ with public key $A$ being $2^{299} = 34 \\pmod{1373}$. Bob encrypts a message using Alice’s public key and sends her the ciphertext $(c_1,c_2) = (661,1325)$. Decrypt the message."
   ]
  },
  {
   "cell_type": "code",
   "execution_count": 6,
   "metadata": {},
   "outputs": [
    {
     "name": "stdout",
     "output_type": "stream",
     "text": [
      "Decrypted message (m): 332\n"
     ]
    }
   ],
   "source": [
    "r_c1 = 661 # first component - ciphertext\n",
    "r_c2 = 1325 # second component - ciphertext\n",
    "\n",
    "p = 1373\n",
    "a = 299\n",
    "\n",
    "S = pow(r_c1, a, p) # secret\n",
    "S_inv = pow(S, -1, p) # invert the secret\n",
    "m = (r_c2 * S_inv) % p # plaintext\n",
    "\n",
    "print(\"Decrypted message (m):\", m) # message\n"
   ]
  },
  {
   "cell_type": "markdown",
   "metadata": {},
   "source": [
    "**d)** Eve notices that Alice and Bob have not used a particularly large $p$ and that $g$ does not have a particularly large order in $\\mathbb F_p^*$. What DLP should she solve to in order to eavesdrop (and crack) all communications from Bob to Alice?"
   ]
  },
  {
   "cell_type": "code",
   "execution_count": 7,
   "metadata": {},
   "outputs": [
    {
     "name": "stdout",
     "output_type": "stream",
     "text": [
      "Found private key (b): 716\n"
     ]
    }
   ],
   "source": [
    "p = 1373\n",
    "g = 2\n",
    "B = pow(g, b, p) # Bob's public key\n",
    "\n",
    "def discrete_log(g, B, p):\n",
    "    '''\n",
    "    Input:\n",
    "    -------\n",
    "    g: int\n",
    "        generator\n",
    "    B: int\n",
    "        Bob's public key\n",
    "    p: int\n",
    "        prime modulos\n",
    "\n",
    "    Output:\n",
    "    -------\n",
    "    int or None\n",
    "        The private key corresponding to the public key B if found, otherwise None.\n",
    "\n",
    "    Comments:\n",
    "    ---------\n",
    "    Brute-force solution to find b in ElGamal encryption scheme. \n",
    "    '''\n",
    "\n",
    "    for b in range(1, p):  # Iterate through all possible private keys\n",
    "        if pow(g, b, p) == B:  # Check if g^b mod p equals Bob's public key B\n",
    "            return b\n",
    "    return None  # If no solution is found\n",
    "\n",
    "found_b = discrete_log(g, B, p)\n",
    "\n",
    "if found_b is not None:\n",
    "    print(\"Found private key (b):\", found_b)\n",
    "else:\n",
    "    print(\"No private key (b) found.\")\n"
   ]
  },
  {
   "cell_type": "markdown",
   "metadata": {},
   "source": [
    " **e)** Bob accidentally used the same ephemeral key 100 times in a row, and Eve intercepts $(2, x_1), (2, x_2), \\ldots, (2, x_{100})$. How might she use frequency analysis to decrypt all 100 of these messages?\n"
   ]
  },
  {
   "cell_type": "markdown",
   "metadata": {},
   "source": [
    "By looking at the distribution of the intercepted x x-values, ve can take use of the fact that Bob unintentionally used the same ephemeral key more than once. It indicates that the same plaintext message was encrypted with the same ephemeral key if there are any recurring x x-values within the ciphertexts (2, x 1 ), (2, x 2 ), …, (2, x 100 ) (2,x 1 ​~ ), (2,x 2 ​~ ),…,(2,x 100 ​~ ). The associated plaintext messages may subsequently be discovered by Eve if she is successful in decrypting these ciphertexts using the repeated ephemeral key. This strategy depends on Eve's capacity to spot trends in the ciphertexts and take advantage of the predictability brought about by Bob's repeated use of the ephemeral key.\n",
    "\n",
    "\n"
   ]
  },
  {
   "cell_type": "markdown",
   "metadata": {
    "collapsed": false
   },
   "source": [
    "## **P3:** Near-Perfect Security?\n",
    "\n",
    "Consider the following private-key cryptosystem.\n",
    "\n",
    " - Bob and Alice agree on a prime modulus $p=17$ (public knowledge)\n",
    "\n",
    " - Bob and Alice agree that the key space $\\mathbb K$ should be a subset of $\\{1, 3, 5, 7, 9, 11, 13, 15\\}$, and the plaintext space $\\mathbb P$ should be a subset of $\\{2, 3, 4, 5, \\ldots, 13, 14, 15\\}$. \n",
    " \n",
    "- Once they agree on a particular key $k$ (privately), encryption proceeds as $e_k(m) = m^k \\pmod{17}$.\n",
    " \n",
    "Below is the full range of possibilities."
   ]
  },
  {
   "cell_type": "code",
   "execution_count": 8,
   "metadata": {
    "collapsed": false
   },
   "outputs": [
    {
     "name": "stdout",
     "output_type": "stream",
     "text": [
      "k\\m |  2  3  4  5  6  7  8  9 10 11 12 13 14 15 | e: m -> m^k (mod p)\n",
      "----------------------------------------------------------------------\n",
      "  1 |  2  3  4  5  6  7  8  9 10 11 12 13 14 15 |\n",
      "  3 |  8 10 13  6 12  3  2 15 14  5 11  4  7  9 |\n",
      "  5 | 15  5  4 14  7 11  9  8  6 10  3 13 12  2 |\n",
      "  7 |  9 11 13 10 14 12 15  2  5  3  7  4  6  8 |\n",
      "  9 |  2 14  4 12 11 10  8  9  7  6  5 13  3 15 |\n",
      " 11 |  8  7 13 11  5 14  2 15  3 12  6  4 10  9 |\n",
      " 13 | 15 12  4  3 10  6  9  8 11  7 14 13  5  2 |\n",
      " 15 |  9  6 13  7  3  5 15  2 12 14 10  4 11  8 |\n"
     ]
    },
    {
     "data": {
      "text/plain": [
       "{2, 3, 4, 5, 6, 7, 8, 9, 10, 11, 12, 13, 14, 15}"
      ]
     },
     "execution_count": 8,
     "metadata": {},
     "output_type": "execute_result"
    }
   ],
   "source": [
    "p = 17\n",
    "K_space = [1, 3, 5, 7, 9, 11, 13, 15]\n",
    "P_space = [2, 3, 4, 5, 6, 7, 8, 9, 10, 11, 12, 13, 14, 15]\n",
    "\n",
    "header = \"k\\\\m | \" + \" \".join(\"{:>2}\".format(str(m)) for m in P_space) + \" | e: m -> m^k (mod p)\"\n",
    "print(header)\n",
    "print(\"-\"*(1+len(header)))\n",
    "\n",
    "C_space = set()\n",
    "for k in K_space:\n",
    "    # build and print the encryption output, for a given key\n",
    "    # and extend the cipherspace set, as needed\n",
    "    row = [pow(m, k, p) for m in P_space]\n",
    "    C_space.update(row) \n",
    "    prow = \"{:>3} | \".format(str(k)) + \" \".join(\"{:>2}\".format(str(mk)) for mk in row) + \" |\"\n",
    "    print(prow)\n",
    "C_space"
   ]
  },
  {
   "cell_type": "markdown",
   "metadata": {
    "collapsed": false
   },
   "source": [
    "#### Final Encryption Scheme Details\n",
    "\n",
    "- Suppose Bob and Alice agree to use each key with equal probability. \n",
    "- Also suppose the probability of messages `2` or `8` occuring is twice as likely as any other message. (But otherwise all probabilities are equal.)\n",
    "\n",
    "_Remember:_ $1 = \\sum_{m\\in \\mathbb P} \\mathrm{prob}(P=m)$.\n",
    "\n",
    "#### Your Tasks\n",
    "\n",
    "For each of the options below,\n",
    " - if you are sure **it is** a perfectly secure system, explain why.\n",
    " - if you are sure **it is not** a perfectly secure system, explain why.\n",
    " - **otherwise** find, if possible, some plaintext $m\\in \\mathbb P$ satisfying $\\mathrm{prob}(C=c | P=m) \\neq \\mathrm{prob}(C=c).$\n",
    "\n",
    "Explore the case when:\n",
    "\n",
    "1.  `K_space = [5, 7, 9, 11]; P_space = [2, 8, 9]`\n",
    "\n",
    "2. `K_space = [5, 7, 9, 13]; P_space = [2, 8, 9]`\n",
    "\n",
    "3. `K_space = [3, 5, 7, 11]; P_space = [2, 4, 8, 9]`\n",
    "\n",
    "4. `K_space = [5, 7, 9, 11]; P_space = [2, 8, 9, 15]`\n"
   ]
  },
  {
   "cell_type": "code",
   "execution_count": 9,
   "metadata": {
    "collapsed": false
   },
   "outputs": [
    {
     "name": "stdout",
     "output_type": "stream",
     "text": [
      "Case 1, C_space: {8, 9, 2, 15}\n",
      "Case 2, C_space: {8, 9, 2, 15}\n",
      "Case 3, C_space: {2, 4, 8, 9, 13, 15}\n",
      "Case 4, C_space: {8, 9, 2, 15}\n"
     ]
    }
   ],
   "source": [
    "import math\n",
    "\n",
    "space_cases = [\n",
    "    ({5, 7, 9, 11}, {2, 8, 9}),\n",
    "    ({5, 7, 9, 13}, {2, 8, 9}),\n",
    "    ({3, 5, 7, 11}, {2, 4, 8, 9}),\n",
    "    ({5, 7, 9, 11}, {2, 8, 9, 15})\n",
    "]\n",
    "\n",
    "def perfect_secure_sys(space_cases):\n",
    "    '''\n",
    "    Input: \n",
    "    ------\n",
    "    space_cases : list of tuples of sets of space numbers\n",
    "        A list of tuples where each tuple contains two sets: \n",
    "        the first set represents the key space (K_space), \n",
    "        and the second set represents the plaintext space (P_space).\n",
    "\n",
    "    Output: \n",
    "    -------\n",
    "    None\n",
    "\n",
    "    Comments:\n",
    "    ---------\n",
    "    Computes ciphertext space (C_space) by different key spaces (K_space) \n",
    "    and plaintext spaces (P_space) specified in the input list `space_cases`\n",
    "    '''\n",
    "    for case_num, (K_space, P_space) in enumerate(space_cases, start=1):\n",
    "        C_space = set()\n",
    "\n",
    "        for k in K_space:\n",
    "            for m in P_space:\n",
    "                c = int(math.pow(m, k) % 17)\n",
    "                C_space.add(c)\n",
    "        \n",
    "        print(f\"Case {case_num}, C_space: {C_space}\")\n",
    "\n",
    "perfect_secure_sys(space_cases)\n"
   ]
  },
  {
   "cell_type": "markdown",
   "metadata": {
    "collapsed": false
   },
   "source": [
    "## **P4:** CRT\n",
    "\n",
    "Work Hoffstein Exercise 2.18(b,c,d,e). \n",
    "\n",
    "*Remark.* Do (d) by hand. You are welcome to hunt for (and use) a Python package with a `CRT` function to help with the other parts."
   ]
  },
  {
   "cell_type": "markdown",
   "metadata": {},
   "source": [
    "Please see attached pdf for [2.18.d](P4-CRT.pdf)"
   ]
  },
  {
   "cell_type": "code",
   "execution_count": 10,
   "metadata": {
    "collapsed": false
   },
   "outputs": [
    {
     "name": "stdout",
     "output_type": "stream",
     "text": [
      "RESULT B: 33437\n",
      "RESULT C: 250018\n",
      "RESULT E: 43419\n"
     ]
    }
   ],
   "source": [
    "import sympy\n",
    "\n",
    "def fast_modular_congruences(c):\n",
    "    '''\n",
    "\n",
    "    Input \n",
    "    -------------\n",
    "    c: tuple of modular congruence tuples with (r_i, m_i) representing remainders and moduli \n",
    "       ((r_0, m_0), (r_1, m_2), ..., (r_i, m_i)) where i is the total number of congruence equations.\n",
    "\n",
    "    Output\n",
    "    -------------\n",
    "    int: The solution to the system of modular congruences.\n",
    "\n",
    "    Comments\n",
    "    -------------\n",
    "    Computes the solution to a system of modular congruences.\n",
    "    '''\n",
    "    large_mod = 1\n",
    "    for i in range(len(c)):\n",
    "        large_mod *= c[i][1]\n",
    "\n",
    "    x = 0\n",
    "    \n",
    "    for a_i, n_i in c:\n",
    "        m_i = large_mod // n_i\n",
    "        _, M_i_inv, _ = sympy.gcdex(m_i, n_i)\n",
    "        x += M_i_inv * m_i * a_i\n",
    "\n",
    "    x = x % large_mod\n",
    "    return x\n",
    "\n",
    "congruences_b = ((137, 423), (87, 191))\n",
    "congruences_c = ((133, 451), (237, 697))\n",
    "congruences_e = ((37, 43), (22, 49), (18, 71))\n",
    "\n",
    "res_b = fast_modular_congruences(congruences_b)\n",
    "res_c = fast_modular_congruences(congruences_c)\n",
    "res_e = fast_modular_congruences(congruences_e)\n",
    "\n",
    "print(\"RESULT B:\", res_b)\n",
    "print(\"RESULT C:\", res_c)\n",
    "print(\"RESULT E:\", res_e)"
   ]
  }
 ],
 "metadata": {
  "kernelspec": {
   "display_name": "Python 3",
   "language": "python",
   "name": "python3"
  },
  "language_info": {
   "codemirror_mode": {
    "name": "ipython",
    "version": 3
   },
   "file_extension": ".py",
   "mimetype": "text/x-python",
   "name": "python",
   "nbconvert_exporter": "python",
   "pygments_lexer": "ipython3",
   "version": "3.11.6"
  }
 },
 "nbformat": 4,
 "nbformat_minor": 4
}
