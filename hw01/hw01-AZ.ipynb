{
 "cells": [
  {
   "cell_type": "markdown",
   "metadata": {
    "collapsed": false
   },
   "source": [
    "<h1><b>Homework I</b></h1>\n",
    "\n",
    "<i>Introduction to Cryptography &ndash; Loyola University Chicago - Spring 2024</i>\n",
    "\n",
    "<div style=\"margin-top:32px;\">\n",
    "<font style=\"font-size: large;\">\n",
    "    <b>Name:</b> \n",
    "    Alina Zacaria\n",
    "</font>\n",
    "</div>\n",
    "\n"
   ]
  },
  {
   "cell_type": "markdown",
   "metadata": {
    "collapsed": false
   },
   "source": [
    "## **P0:** Self-Assessment\n",
    "\n",
    "`Undergraduate Students & Graduate Students:`\n",
    "\n",
    "- Please give resources used (and to what extent) on this homework assignment.\n",
    "\n",
    " - Name one problem that:\n",
    "\n",
    "    + you are sure about;\n",
    "\n",
    "    + you would like feedback on.\n",
    "\n",
    " - Look back at the definitions, theorems, concepts, and questions-of-the-week from the past two weeks. Place them into one of three columns.\n",
    "\n",
    "| happy: | :need review: | :unhappy |\n",
    "| --- | --- | --- |\n",
    "| euclid's algo, euler's totient | groups | fields |\n",
    "\n",
    "\n",
    " - **Agree:** \n",
    " Next week, I should seek more help from my group members or Piazza, or [Drop in](https://appt.link/lauve-meetings) for a visit with my professor."
   ]
  },
  {
   "cell_type": "markdown",
   "metadata": {
    "collapsed": false
   },
   "source": [
    "# Math/Comp 331\n",
    "\n",
    "``Undergraduate Students:`` submit solutions to all exercises in this collection, plus the **Self Assessment** above.\n",
    "\n",
    "**Important Notes.** \n",
    "\n",
    "- On problems that require some mathematical calculations, you may use markdown cells with $\\LaTeX{}$ or upload a PDF or PNG file. \n",
    "<br>\n",
    "(Be sure to indicate the file name if you don't import your solution directly beneath the problem statement.)\n",
    "\n",
    "- All functions you code in this class as part of your solutions should include a doc string (within triple-quotes, as I did in P2 below). \n",
    "<br>(Additionally, particularly lengthy blocks of code should include a comment or two for the reader.)"
   ]
  },
  {
   "cell_type": "markdown",
   "metadata": {
    "collapsed": false
   },
   "source": [
    "## **P1:** Markdown &amp; LaTeX Checkup\n",
    "\n",
    "Recreate(\\*) the output of the next `code cell` using a _markdown cell_. Inside it, you may use Markdown, $\\LaTeX{}$, and HTML commands. Preferably using the latter only for displaying your image. \n",
    "\n",
    "(\\*) Please replace the \"lake gull\" with the image of _**an author that you're in to these days**_, appropriately captioned."
   ]
  },
  {
   "cell_type": "code",
   "execution_count": 1,
   "metadata": {
    "collapsed": false
   },
   "outputs": [
    {
     "data": {
      "image/jpeg": "[encoded data removed]",
      "text/plain": [
       "<IPython.core.display.Image object>"
      ]
     },
     "execution_count": 1,
     "metadata": {},
     "output_type": "execute_result"
    }
   ],
   "source": [
    "from IPython.display import Image\n",
    "Image(filename=\"dan-brown.jpeg\") # changed filename to author name picture file"
   ]
  },
  {
   "cell_type": "markdown",
   "metadata": {
    "collapsed": false
   },
   "source": [
    "## **P2:** Python &amp; Algorithm Checkup\n",
    "\n",
    "Fix *ALL* the mistakes in the next cell."
   ]
  },
  {
   "cell_type": "code",
   "execution_count": 2,
   "metadata": {
    "collapsed": false
   },
   "outputs": [
    {
     "name": "stdout",
     "output_type": "stream",
     "text": [
      "GCD( 252 , 291 ) : 3\n"
     ]
    }
   ],
   "source": [
    "def my_gcd(a, b):\n",
    "    \"\"\"\n",
    "    Input:\n",
    "      - `a` and `b` are positive integers.\n",
    "\n",
    "    Output:\n",
    "      - the integer `m` so that `a|m` and `b|m` and no larger integer has this property.\n",
    "\n",
    "    Comments:\n",
    "      - uses Euclid's Algorithm.\n",
    "    \"\"\"\n",
    "    # some type checking\n",
    "    assert a == abs(int(a)), \"%s is not an integer\"%(a)\n",
    "    assert b == abs(int(b))\n",
    "\n",
    "    while b != 0:\n",
    "      # a = q * b + r for some quotient `q` and remainder `r`\n",
    "      r = a % b\n",
    "      a = b # swapped vars, a = b\n",
    "      b = r # swapped vars, b = r\n",
    "    return a\n",
    "\n",
    "# Test\n",
    "a = 252\n",
    "b = 291\n",
    "print(\"GCD(\", a, \",\", b,\") :\", my_gcd(a, b))"
   ]
  },
  {
   "cell_type": "markdown",
   "metadata": {
    "collapsed": false
   },
   "source": [
    "## **P3:** Extended Euclidean Algorithm\n",
    "\n",
    "Use the extended Euclidean algorithm (and a calculator, if you like) to find, if possible, numbers $u$ and $v$ so that:\n",
    "\n",
    "1.  $527u + 1258v = 17$ \n",
    "\n",
    "2.  $291u + 252v = 3$.\n",
    "\n",
    "Show all steps."
   ]
  },
  {
   "cell_type": "markdown",
   "metadata": {},
   "source": [
    "## My Solution:\n",
    "\n",
    "Let's solve the first problem: $527u + 1258v = 1$\n",
    "\n",
    "1. Finding the GCD(527, 1258):\n",
    "\n",
    "\\begin{align*}\n",
    "    \\quad 1258 & = 527(2) + 204 \\\\\n",
    "    \\quad 527 & = 204(2) + 119 \\\\\n",
    "    \\quad 204 & = 119(1) + 85 \\\\\n",
    "    \\quad 119 & = 85(1) + 34 \\\\\n",
    "    \\quad 85 & = 34(2) + 17 \\\\\n",
    "    \\quad 34 & = 17(2) + 0 \n",
    "\\end{align*}\n",
    "\n",
    "2. According to Hoffstein's 1.2, the greatest common divisor (GCD) of two integers, a and b, is 1 if a and b are prime. Observing that 1258 is an even number, it is likely composite, whereas 527 is odd. From Step 1, the GCD(527, 1258) is 17, not 1 as expected from the theorem. Therefore, there exist no integers $u$ and $v$ that satisfy $527u + 1258v = 1$.\n",
    "\n",
    "Let's solve the second problem: $291u + 252v = 3$\n",
    "\n",
    "1. Finding the GCD(252, 291):\n",
    "\n",
    "\\begin{align*}\n",
    "    \\quad 291 & = 252(1) + 39 \\\\\n",
    "    \\quad 252 & = 39(6) + 18 \\\\\n",
    "    \\quad 39 & = 18(2) + 3 \\\\\n",
    "    \\quad 18 & = 3(6) + 0\n",
    "\\end{align*}\n",
    "\n",
    "2. Since GCD(252, 291) = 3, we can back substitute to find $u$ and $v$:\n",
    "\n",
    "\\begin{align*}\n",
    "   \\quad 3 & = 39(1) + 18(-2) \\\\\n",
    "   & = 252(-2) + 39(13) \\\\\n",
    "   & = 291(13) + 252(-15) \\\\\n",
    "   & = 252(-15) + 291(13)\n",
    "\\end{align*}\n",
    "\n",
    "3. From Step 2, we have uncovered that the factors, 13 and -15 satisfy $291u + 252v = 3$. Therefore, $u = 13$ and $v = -15$.\n"
   ]
  },
  {
   "cell_type": "markdown",
   "metadata": {
    "collapsed": false
   },
   "source": [
    "## **P4:** The Euler $\\phi$ Function and Primitive Roots\n",
    "\n",
    "Answer the following.\n",
    "\n",
    "1.  Determine $\\phi(n)$ for each integer $n$.\n",
    "    *(Write a bit of code, using your `my_gcd` function, to do the hard work for you.)*\n",
    "\n",
    "    $5, 12, 121, 292$\n",
    "\n",
    "\n",
    "2.  For which of the following primes $p$ is 3 a primitive root modulo $p$?\n",
    "    *(Write a bit of code to do the hard work for you.)*\n",
    "\n",
    "    $5, 7, 11, 17$\n",
    "\n",
    "\n",
    "3.  Write a bit of code that finds all primitive roots of $\\mathbb F_p$ and use it to verify Remark 1.32 for $p=229$."
   ]
  },
  {
   "cell_type": "code",
   "execution_count": 3,
   "metadata": {},
   "outputs": [
    {
     "name": "stdout",
     "output_type": "stream",
     "text": [
      "Problem 1 - Euler Totient values\n",
      "phi( 5 ) : 4\n",
      "phi( 12 ) : 4\n",
      "phi( 121 ) : 110\n",
      "phi( 292 ) : 144\n",
      "\n",
      "Problem 2 - Primitive Root of 3\n",
      "[5, 7, 17]\n",
      "\n",
      "Problem 3 - Primitive Roots for F_229:\n",
      "[6, 7, 10, 23, 24, 28, 29, 31, 35, 38, 39, 40, 41, 47, 50, 59, 63, 65, 66, 67, 69, 72, 73, 74, 77, 79, 87, 90, 92, 96, 98, 102, 105, 110, 112, 113, 116, 117, 119, 124, 127, 131, 133, 137, 139, 142, 150, 152, 155, 156, 157, 160, 162, 163, 164, 166, 170, 179, 182, 188, 189, 190, 191, 194, 198, 200, 201, 205, 206, 219, 222, 223]\n"
     ]
    }
   ],
   "source": [
    "# Problem 1:\n",
    "\n",
    "# we can store the numbers from the given problem in a list\n",
    "nums_list = [5, 12, 121, 292]\n",
    "\n",
    "def euler_totient(n):\n",
    "    \"\"\"\n",
    "    Input:\n",
    "      - 'n' is a positive integer.\n",
    "\n",
    "    Output:\n",
    "      - the count of prime numbers, 'prime_count', where the ith number is prime, from 1 ... n.\n",
    "\n",
    "    Comments:\n",
    "      - uses Euler's Totient Algorithm.\n",
    "    \"\"\"\n",
    "    prime_count = 0\n",
    "    for i in range(1, n):\n",
    "        if my_gcd(i, n) == 1:\n",
    "            prime_count += 1\n",
    "    return prime_count\n",
    "  \n",
    "# let's print the results\n",
    "print(\"Problem 1 - Euler Totient values\")\n",
    "for n in nums_list:\n",
    "    print(\"phi(\", n, \") :\", euler_totient(n))\n",
    "print()\n",
    "\n",
    "# Problem 2:\n",
    "    \n",
    "# we can store the new numbers from the given problem in a list\n",
    "nums_list = [5, 7, 11, 17]\n",
    "\n",
    "def is_3_prim_root(p):\n",
    "    \"\"\"\n",
    "    Input:\n",
    "      - a prime number 'p'.\n",
    "\n",
    "    Output:\n",
    "      - Returns true or false whether that 'p' for '3^i mod p', where i is a number 1 ... (n - 1),\n",
    "        are all distinct numbers.\n",
    "\n",
    "    Comments:\n",
    "      - specialized for checking 3 is a primitive root for any 'p'.\n",
    "\n",
    "    \"\"\"\n",
    "    prim_root_of_3_set = set()\n",
    "    for i in range(1, n):\n",
    "        power_n = 3 ** i\n",
    "        prim_root = power_n % p\n",
    "        if prim_root_of_3_set.__contains__(prim_root):\n",
    "            return False\n",
    "        else:\n",
    "            prim_root_of_3_set.add(prim_root)\n",
    "    return True\n",
    "\n",
    "print(\"Problem 2 - Primitive Root of 3\")\n",
    "prim_root_is_3_list = []\n",
    "for n in nums_list:\n",
    "    if is_3_prim_root(n):\n",
    "      prim_root_is_3_list.append(n)\n",
    "print(prim_root_is_3_list)\n",
    "print()\n",
    "\n",
    "# Problem 3:\n",
    "\n",
    "def is_prim_root(g, p):\n",
    "    \"\"\"\n",
    "    Input:\n",
    "      - a potential primitve integer root 'p'\n",
    "      - a prime number in the field 'g'\n",
    "\n",
    "    Output:\n",
    "      - Returns true or false whether 'g' is a primitive root where 'g^i % p', and i is a number 1 ... (n - 1).\n",
    "\n",
    "    \"\"\"\n",
    "    prim = True\n",
    "    for i in range(1, euler_totient(p)):\n",
    "        if pow(g, i, p) == 1:\n",
    "            prim = False\n",
    "            break\n",
    "    return prim\n",
    "\n",
    "def find_prim_roots(p):\n",
    "    \"\"\"\n",
    "    Input:\n",
    "      - a prime number 'p' in the finite field.\n",
    "\n",
    "    Output:\n",
    "      - a list of all the primitive roots with mod p.\n",
    "\n",
    "    \"\"\"\n",
    "    prim_roots = []\n",
    "    for g in range(2, p):\n",
    "        if is_prim_root(g, p):\n",
    "            prim_roots.append(g)\n",
    "    return prim_roots\n",
    "\n",
    "print(\"Problem 3 - Primitive Roots for F_229:\")\n",
    "p = 229\n",
    "print(find_prim_roots(p))\n"
   ]
  },
  {
   "cell_type": "markdown",
   "metadata": {
    "collapsed": false
   },
   "source": [
    "## **P5:** The Affine Cipher is No Good\n",
    "\n",
    "Solve Hoffstein's Exercise 1.43(a)-(c).\n",
    "\n",
    "*Remark.* Arithmetic works the way you expect in finite fields. Unlike, say, $\\mathbb Z/12\\mathbb Z$; where, e.g., the system\n",
    "$$\n",
    "\\begin{cases} 2x+y\\equiv_{12} 3 \\\\ x+2y\\equiv_{12}2\\end{cases}\n",
    "$$\n",
    "does not have a unique solution."
   ]
  },
  {
   "cell_type": "markdown",
   "metadata": {},
   "source": [
    "# P5 Solution:\n",
    "Hoffstein's Section 1.43:\n",
    "\n",
    "Consider the affine cipher with key $k = (k_1, k_2)$ whose encryption and de- cryption functions are given by (1.11) on page 43.\n",
    "\n",
    "a. Let $p = 541$ and let the key be $k = (34, 71)$. Encrypt the message $m = 204$. Decrypt the ciphertext $c = 431$.\n",
    "\n",
    "We know from 1.11 that the following are formulas of encryption and decryption:  \n",
    "\n",
    "$k = (k_1, k_2)$\n",
    "\n",
    "$e_k(m)$ $≡$ $k_1 · m + k_2$ $mod$ $p$    \n",
    "\n",
    "$d_k(c)$ $≡$ $k'_1 · (c − k_2)$ $mod$ $p$\n",
    "\n",
    "Let's use it for $p = 541$, $k = (34, 71)$, and $m = 204$ in encryption:\n",
    "\n",
    "$e_k(m) $ ≡ $ 34 * 204 + 71$ $mod$ $541$ $=$ 515\n",
    "\n",
    "Let's use it for $p = 541$, $k = (34, 71)$, and $c = 431$ in decryption:\n",
    "\n",
    "$d_k(c) $ ≡ $ 497 * (431 - 71)$ $mod$ $541$ $=$ 390\n",
    "\n",
    "\n",
    "b. Assuming that p is public knowledge, explain why the affine cipher is vulnerable to a known plaintext attack. (See Property 4 on page 38.) How many plain- text/ciphertext pairs are likely to be needed in order to recover the private key?\n",
    "\n",
    "If the p is public knowledge, it would be easy to eventually crack the plaintext message due its linearty. In order to recover the private key, there would need to be at least one pair to receive the private key, as the bi-directional mapping between the plaintext element and crypt ext will reveal it.\n",
    "\n",
    "c. Alice and Bob decide to use the prime $p = 601$ for their affine cipher. The value of $p$ is public knowledge, and Eve intercepts the ciphertexts $c_1 = 324$ and $c_2 = 381$ and also manages to find out that the corresponding plaintexts are $m_1 = 387$ and $m_2 = 491$. Determine the private key and then use it to encrypt the message $m_3 = 173$.\n",
    "\n",
    "Using back-tracking we can figure that the private key is 74, 32 and use it to encrypt $m_3 = 173$ in $e_k(m_3)$.\n"
   ]
  }
 ],
 "metadata": {
  "kernelspec": {
   "argv": [
    "/usr/bin/python3",
    "-m",
    "ipykernel",
    "--HistoryManager.enabled=False",
    "--matplotlib=inline",
    "-c",
    "%config InlineBackend.figure_formats = set(['retina'])\nimport matplotlib; matplotlib.rcParams['figure.figsize'] = (12, 7)",
    "-f",
    "{connection_file}"
   ],
   "display_name": "Python 3 (system-wide)",
   "env": {},
   "language": "python",
   "metadata": {
    "cocalc": {
     "description": "Python 3 programming language",
     "priority": 100,
     "url": "https://www.python.org/"
    }
   },
   "name": "python3",
   "resource_dir": "/ext/jupyter/kernels/python3"
  },
  "language_info": {
   "codemirror_mode": {
    "name": "ipython",
    "version": 3
   },
   "file_extension": ".py",
   "mimetype": "text/x-python",
   "name": "python",
   "nbconvert_exporter": "python",
   "pygments_lexer": "ipython3",
   "version": "3.11.6"
  }
 },
 "nbformat": 4,
 "nbformat_minor": 4
}
